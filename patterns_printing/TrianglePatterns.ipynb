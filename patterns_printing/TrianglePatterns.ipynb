{
 "cells": [
  {
   "cell_type": "code",
   "execution_count": 5,
   "id": "38bc5e77",
   "metadata": {},
   "outputs": [
    {
     "name": "stdout",
     "output_type": "stream",
     "text": [
      "$$$$$\n",
      "*\n",
      "*\n",
      "*\n",
      "*\n",
      "*\n",
      "#####"
     ]
    }
   ],
   "source": [
    "n=5\n",
    "print(\"$\"*n)\n",
    "\n",
    "for j in range(n):\n",
    "    print(\"*\")\n",
    "\n",
    "for j in range(n):\n",
    "    print(\"#\",end=\"\")"
   ]
  },
  {
   "cell_type": "markdown",
   "id": "3fa7dd7e",
   "metadata": {},
   "source": [
    "1. Square Pattern"
   ]
  },
  {
   "cell_type": "code",
   "execution_count": 13,
   "id": "69368f01",
   "metadata": {},
   "outputs": [
    {
     "name": "stdout",
     "output_type": "stream",
     "text": [
      "# # # # # \n",
      "# # # # # \n",
      "# # # # # \n",
      "# # # # # \n",
      "# # # # # \n"
     ]
    }
   ],
   "source": [
    "## Square Pattern\n",
    "\n",
    "n=5\n",
    "\n",
    "for i in range(n):\n",
    "    for j in range(n):\n",
    "        print(\"#\",end=\" \") \n",
    "        #end=\"\" tells print() to end the output with an empty string instead of the default newline.\n",
    "    print() ## Do not miss to print new line character else the pattern will not be printed correctly"
   ]
  },
  {
   "cell_type": "markdown",
   "id": "38950c42",
   "metadata": {},
   "source": [
    "2. Increasing Triangle\n",
    " "
   ]
  },
  {
   "cell_type": "code",
   "execution_count": null,
   "id": "4060432a",
   "metadata": {},
   "outputs": [
    {
     "name": "stdout",
     "output_type": "stream",
     "text": [
      "# \n",
      "# # \n",
      "# # # \n",
      "# # # # \n",
      "# # # # # \n"
     ]
    }
   ],
   "source": [
    "## Increasing Triangle\n",
    "n=5\n",
    "for i in range(n): ## Outer Loop determines the rows\n",
    "    for j in range(i+1): ## Inner loop determines the columns\n",
    "        print(\"#\",end=\" \") \n",
    "        #end=\"\" tells print() to end the output with an empty string instead of the default newline.\n",
    "    print()  "
   ]
  },
  {
   "cell_type": "code",
   "execution_count": null,
   "id": "e59148a1",
   "metadata": {},
   "outputs": [
    {
     "name": "stdout",
     "output_type": "stream",
     "text": [
      "# # # # # \n",
      "# # # # \n",
      "# # # \n",
      "# # \n",
      "# \n",
      "$ $ $ $ $ \n",
      "$ $ $ $ \n",
      "$ $ $ \n",
      "$ $ \n",
      "$ \n"
     ]
    }
   ],
   "source": [
    "## Decreasing Triangle\n",
    "n=5\n",
    "for i in range(n): ## Outer Loop determines the rows\n",
    "    for j in range(n-i): ## to print 5 stars we need n columns and decrease with each loop, so n-0=5, n-1=4,n-2=3...\n",
    "        print(\"#\",end=\" \")\n",
    "        \n",
    "        #end=\"\" tells print() to end the output with an empty string instead of the default newline.\n",
    "    print()  \n",
    "\n",
    "\n",
    "for i in range(n): ## Outer Loop determines the rows\n",
    "    for j in range(i,n): ## with each loop j = range(0,5), j=range(1,5)\n",
    "        print(\"$\",end=\" \")\n",
    "        \n",
    "        #end=\"\" tells print() to end the output with an empty string instead of the default newline.\n",
    "    print()  "
   ]
  },
  {
   "cell_type": "markdown",
   "id": "c933a424",
   "metadata": {},
   "source": [
    "Right Sided Triangle\n"
   ]
  },
  {
   "cell_type": "code",
   "execution_count": 31,
   "id": "de0b9f6a",
   "metadata": {},
   "outputs": [
    {
     "name": "stdout",
     "output_type": "stream",
     "text": [
      "                    * \n",
      "                  * * \n",
      "                * * * \n",
      "              * * * * \n",
      "            * * * * * \n",
      "          * * * * * * \n",
      "        * * * * * * * \n",
      "      * * * * * * * * \n",
      "    * * * * * * * * * \n",
      "  * * * * * * * * * * \n"
     ]
    }
   ],
   "source": [
    "## Right Sided Triangle\n",
    "## It has two triangles:\n",
    "## - descreasing triangle printing spaces and \n",
    "## - increasing triangle printing star\n",
    "n=10\n",
    "for i in range(n): ## Outer Loop determines the rows\n",
    "    for j in range(i,n): ## Decreasing Triangle \n",
    "        print(\" \",end=\" \")\n",
    "        \n",
    "    for k in range(i+1): ## Increasing Triangle\n",
    "        print(\"*\",end=\" \")\n",
    "        #end=\"\" tells print() to end the output with an empty string instead of the default newline.\n",
    "    print() "
   ]
  },
  {
   "cell_type": "code",
   "execution_count": 35,
   "id": "84e06d19",
   "metadata": {},
   "outputs": [
    {
     "name": "stdout",
     "output_type": "stream",
     "text": [
      "* * * * * * * * * * \n",
      "  * * * * * * * * * \n",
      "    * * * * * * * * \n",
      "      * * * * * * * \n",
      "        * * * * * * \n",
      "          * * * * * \n",
      "            * * * * \n",
      "              * * * \n",
      "                * * \n",
      "                  * \n"
     ]
    }
   ],
   "source": [
    "## Right Sided Triangle\n",
    "## It has two triangles:\n",
    "## - descreasing triangle printing spaces and \n",
    "## - increasing triangle printing star\n",
    "n=10\n",
    "for i in range(n): ## Outer Loop determines the rows\n",
    "    for j in range(i): ## Increasing Spaces Triangle \n",
    "        print(\" \",end=\" \")\n",
    "        \n",
    "    for k in range(i,n): ## Decreasing Star Triangle\n",
    "        print(\"*\",end=\" \")\n",
    "        #end=\"\" tells print() to end the output with an empty string instead of the default newline.\n",
    "    print() "
   ]
  },
  {
   "cell_type": "code",
   "execution_count": 62,
   "id": "a87aba5f",
   "metadata": {},
   "outputs": [
    {
     "name": "stdout",
     "output_type": "stream",
     "text": [
      "          * \n",
      "        * * * \n",
      "      * * * * * \n",
      "    * * * * * * * \n",
      "  * * * * * * * * * \n"
     ]
    }
   ],
   "source": [
    "## Hill Pattern\n",
    "## Three Triangles\n",
    "\n",
    "n=5\n",
    "for i in range(n): ## Outer Loop determines the rows\n",
    "    for j in range(i,n): ## Decreasing Space Triangle \n",
    "        print(\" \",end=\" \")\n",
    "        \n",
    "    for j in range(i): ## Increasing Star Triangle\n",
    "        print(\"*\",end=\" \")\n",
    "    \n",
    "    for j in range(i+1): ## Decreasing Star Triangle\n",
    "        print(\"*\",end=\" \")\n",
    "    \n",
    "    print() "
   ]
  },
  {
   "cell_type": "code",
   "execution_count": 44,
   "id": "002fd661",
   "metadata": {},
   "outputs": [
    {
     "name": "stdout",
     "output_type": "stream",
     "text": [
      "* * * * * * * * * \n",
      "  * * * * * * * \n",
      "    * * * * * \n",
      "      * * * \n",
      "        * \n"
     ]
    }
   ],
   "source": [
    "## Reverse Hill Pattern\n",
    "## Three Triangles\n",
    "\n",
    "n=5\n",
    "for i in range(n): ## Outer Loop determines the rows\n",
    "    for j in range(i): ## Increasing Space Triangle \n",
    "        print(\" \",end=\" \")\n",
    "        \n",
    "    for j in range(i,n): ## Decreasing Star Triangle\n",
    "        print(\"*\",end=\" \")\n",
    "    \n",
    "    for j in range(i+1,n): ## Decreasing Star Triangle\n",
    "        print(\"*\",end=\" \")\n",
    "    \n",
    "    print() "
   ]
  },
  {
   "cell_type": "code",
   "execution_count": null,
   "id": "5df636eb",
   "metadata": {},
   "outputs": [
    {
     "name": "stdout",
     "output_type": "stream",
     "text": [
      "        * \n",
      "      * * * \n",
      "    * * * * * \n",
      "  * * * * * * * \n",
      "* * * * * * * * * \n",
      "  * * * * * * * \n",
      "    * * * * * \n",
      "      * * * \n",
      "        * \n"
     ]
    }
   ],
   "source": [
    "## Diamond  Pattern\n",
    "## 6 triangles Triangles\n",
    "\n",
    "n=5\n",
    "for i in range(n-1): ## Outer Loop determines the rows\n",
    "    for j in range(i,n-1): ## Decreasing Space Triangle\n",
    "        print(\" \",end=\" \")\n",
    "        \n",
    "    for j in range(i): ## Increasing Star Triangle\n",
    "        print(\"*\",end=\" \")\n",
    "    \n",
    "    for j in range(i+1): ## Decreasing Star Triangle\n",
    "        print(\"*\",end=\" \")\n",
    "    \n",
    "    print()\n",
    "\n",
    "\n",
    "for i in range(n): ## Outer Loop determines the rows\n",
    "    for j in range(i): ## Increasing Space Triangle \n",
    "        print(\" \",end=\" \")\n",
    "        \n",
    "    for j in range(i,n): ## Decreasing Star Triangle\n",
    "        print(\"*\",end=\" \")\n",
    "    \n",
    "    for j in range(i+1,n): ## Decreasing Star Triangle\n",
    "        print(\"*\",end=\" \") \n",
    "    \n",
    "    print()\n",
    "\n",
    "## NOTE: Outer Loop remains same for each patterns\n",
    "## for i in range(n): ## Outer Loop determines the rows\n",
    "##      print()\n"
   ]
  },
  {
   "cell_type": "code",
   "execution_count": null,
   "id": "4ac7ef4f",
   "metadata": {},
   "outputs": [],
   "source": []
  }
 ],
 "metadata": {
  "kernelspec": {
   "display_name": "Python 3",
   "language": "python",
   "name": "python3"
  },
  "language_info": {
   "codemirror_mode": {
    "name": "ipython",
    "version": 3
   },
   "file_extension": ".py",
   "mimetype": "text/x-python",
   "name": "python",
   "nbconvert_exporter": "python",
   "pygments_lexer": "ipython3",
   "version": "3.12.11"
  }
 },
 "nbformat": 4,
 "nbformat_minor": 5
}
