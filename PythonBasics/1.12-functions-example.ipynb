{
 "cells": [
  {
   "cell_type": "markdown",
   "id": "14fbc254",
   "metadata": {},
   "source": [
    "Functions Examples\n",
    "\n",
    "Example 1. Temperature Conversion"
   ]
  },
  {
   "cell_type": "code",
   "execution_count": 3,
   "id": "1a22182c",
   "metadata": {},
   "outputs": [
    {
     "data": {
      "text/plain": [
       "25.0"
      ]
     },
     "execution_count": 3,
     "metadata": {},
     "output_type": "execute_result"
    }
   ],
   "source": [
    "def convert_temp(temp,unit):\n",
    "    \"\"\"This function converts temperature between celsius and Fahrenheit\"\"\"\n",
    "    if unit=='C':\n",
    "        return temp * 9/5 + 32 ## Celsius to Fahrenheit\n",
    "    elif unit=='F':\n",
    "        return (temp - 32)*5/9 ## Fahrenheit to Celsius\n",
    "    else:\n",
    "        return None\n",
    "\n",
    "convert_temp(25,'C')\n",
    "convert_temp(77,'F')\n"
   ]
  },
  {
   "cell_type": "markdown",
   "id": "4503649d",
   "metadata": {},
   "source": []
  },
  {
   "cell_type": "markdown",
   "id": "efb3aa74",
   "metadata": {},
   "source": [
    "Example 2: Password Strenght Checker\n"
   ]
  },
  {
   "cell_type": "code",
   "execution_count": 6,
   "id": "f114e2c1",
   "metadata": {},
   "outputs": [
    {
     "name": "stdout",
     "output_type": "stream",
     "text": [
      "False\n",
      "True\n"
     ]
    }
   ],
   "source": [
    "def is_strong_password(password):\n",
    "    '''This function checks if password is strong or not'''\n",
    "    if len(password) < 8:\n",
    "        return False\n",
    "    if not any(char.isdigit() for char in password):\n",
    "        return False\n",
    "    if not any(char.islower() for char in password):\n",
    "        return False\n",
    "    if not any(char.isupper() for char in password):\n",
    "        return  False\n",
    "    if not any(char in '!@#$%^&*()_+' for char in password):\n",
    "        return False\n",
    "    return True\n",
    "\n",
    "print(is_strong_password(\"omkar\"))\n",
    "print(is_strong_password(\"Omkar@123\"))\n"
   ]
  },
  {
   "cell_type": "markdown",
   "id": "e6cf5860",
   "metadata": {},
   "source": [
    "Example 3: Calcuate the total cost of items in shopping cart\n"
   ]
  },
  {
   "cell_type": "code",
   "execution_count": 11,
   "id": "2aa591df",
   "metadata": {},
   "outputs": [
    {
     "data": {
      "text/plain": [
       "6.2"
      ]
     },
     "execution_count": 11,
     "metadata": {},
     "output_type": "execute_result"
    }
   ],
   "source": [
    "def calcuate_total_cost(cart):\n",
    "    total_cost=0\n",
    "    for item in cart:\n",
    "        total_cost+=item['price']*item['quantity']\n",
    "\n",
    "    return total_cost\n",
    "\n",
    "cart=[\n",
    "    {'name':'Apple','price':0.5, 'quantity':4},\n",
    "    {'name':'Banana','price':0.3, 'quantity':6},\n",
    "    {'name':'Orange','price':0.8, 'quantity':3}\n",
    "]\n",
    "\n",
    "calcuate_total_cost(cart)\n"
   ]
  },
  {
   "cell_type": "markdown",
   "id": "28cea9df",
   "metadata": {},
   "source": [
    "Example 4: Check if string is palindrome\n"
   ]
  },
  {
   "cell_type": "code",
   "execution_count": null,
   "id": "f0089c75",
   "metadata": {},
   "outputs": [
    {
     "data": {
      "text/plain": [
       "False"
      ]
     },
     "execution_count": 18,
     "metadata": {},
     "output_type": "execute_result"
    }
   ],
   "source": [
    "def is_palindrome(s):\n",
    "    s=s.lower().replace(\" \",\"\")\n",
    "    return s==s[::-1]\n",
    "\n",
    "is_palindrome(\"3 03\")\n"
   ]
  },
  {
   "cell_type": "markdown",
   "id": "99c90f68",
   "metadata": {},
   "source": [
    "Example 5: Calculate factorials of a number using recursion\n"
   ]
  },
  {
   "cell_type": "code",
   "execution_count": null,
   "id": "d0f10460",
   "metadata": {},
   "outputs": [
    {
     "data": {
      "text/plain": [
       "720"
      ]
     },
     "execution_count": 20,
     "metadata": {},
     "output_type": "execute_result"
    }
   ],
   "source": [
    "def cal_factorial(n):\n",
    "    if n==0:\n",
    "        return 1\n",
    "    else:\n",
    "        return n * cal_factorial(n-1) ## Function inside a function is called recursion\n",
    "    \n",
    "\n",
    "cal_factorial(6)\n"
   ]
  },
  {
   "cell_type": "markdown",
   "id": "cd297f0f",
   "metadata": {},
   "source": [
    "Example 6: Function to read a file and count the frequency of each word"
   ]
  },
  {
   "cell_type": "code",
   "execution_count": 23,
   "id": "a87c1d5e",
   "metadata": {},
   "outputs": [
    {
     "name": "stdout",
     "output_type": "stream",
     "text": [
      "{'hello': 1, 'world': 1, 'how': 1, 'are': 1, 'you': 1, 'my': 1, 'name': 1, 'is': 1, 'omkar': 1}\n"
     ]
    }
   ],
   "source": [
    "def count_word_frequency(file_path):\n",
    "    word_count={}\n",
    "    with open(file_path,'r') as file:\n",
    "        for line in file:\n",
    "            words=line.split()\n",
    "            for word in words:\n",
    "                word=word.lower().strip('.,!?:;\"\\'')\n",
    "                word_count[word]=word_count.get(word,0)+1\n",
    "    return word_count\n",
    "\n",
    "filepath='sample.txt'\n",
    "word_frequency=count_word_frequency(filepath)\n",
    "print(word_frequency)\n",
    "\n",
    "    "
   ]
  },
  {
   "cell_type": "markdown",
   "id": "8a283557",
   "metadata": {},
   "source": [
    "Example 7: Validate Email Address\n",
    "\n"
   ]
  },
  {
   "cell_type": "code",
   "execution_count": 26,
   "id": "fe47b030",
   "metadata": {},
   "outputs": [
    {
     "name": "stdout",
     "output_type": "stream",
     "text": [
      "True\n",
      "False\n"
     ]
    }
   ],
   "source": [
    "import re\n",
    "\n",
    "def is_valid_email(email):\n",
    "    pattern = r'^[a-zA-Z0-9_.+-]+@[a-zA-Z0-9-]+\\.[a-zA-Z0-9-.]+$'\n",
    "    return re.match(pattern,email) is not None\n",
    "\n",
    "print(is_valid_email(\"test@abc.com\"))\n",
    "print(is_valid_email(\"test.com\"))"
   ]
  },
  {
   "cell_type": "code",
   "execution_count": null,
   "id": "0d58692d",
   "metadata": {},
   "outputs": [],
   "source": []
  }
 ],
 "metadata": {
  "kernelspec": {
   "display_name": "Python 3",
   "language": "python",
   "name": "python3"
  },
  "language_info": {
   "codemirror_mode": {
    "name": "ipython",
    "version": 3
   },
   "file_extension": ".py",
   "mimetype": "text/x-python",
   "name": "python",
   "nbconvert_exporter": "python",
   "pygments_lexer": "ipython3",
   "version": "3.12.11"
  }
 },
 "nbformat": 4,
 "nbformat_minor": 5
}
