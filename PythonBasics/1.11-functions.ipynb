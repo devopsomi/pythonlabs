{
 "cells": [
  {
   "cell_type": "markdown",
   "id": "9575e4a9",
   "metadata": {},
   "source": [
    "Functions\n",
    "- Block of code \n",
    "- Helps in organizing code, reusing and improving readability"
   ]
  },
  {
   "cell_type": "code",
   "execution_count": null,
   "id": "6eb95343",
   "metadata": {},
   "outputs": [],
   "source": [
    "## Syntax\n",
    "\n",
    "def function_name(parameters):\n",
    "    \"\"\"Docstring\"\"\"  ## Use for comments\n",
    "    # Function Body - code of the body\n",
    "    return expression  ## Some functions may return or may not return any value"
   ]
  },
  {
   "cell_type": "code",
   "execution_count": 1,
   "id": "c0b63dca",
   "metadata": {},
   "outputs": [
    {
     "name": "stdout",
     "output_type": "stream",
     "text": [
      "Number is even\n"
     ]
    }
   ],
   "source": [
    "## Why Functions\n",
    "\n",
    "num=24\n",
    "if num%2==0:\n",
    "    print(\"Number is even\")\n",
    "else:\n",
    "    print(\"Number is Odd\")\n",
    "    "
   ]
  },
  {
   "cell_type": "code",
   "execution_count": 3,
   "id": "45d6c558",
   "metadata": {},
   "outputs": [],
   "source": [
    "def even_or_odd(num):\n",
    "    \"\"\"This function finds even or odd\"\"\"\n",
    "    if num%2==0:\n",
    "        print(\"Even Number\")\n",
    "    else:\n",
    "        print(\"Odd Number\")\n",
    "\n"
   ]
  },
  {
   "cell_type": "code",
   "execution_count": 7,
   "id": "45b11210",
   "metadata": {},
   "outputs": [
    {
     "name": "stdout",
     "output_type": "stream",
     "text": [
      "Odd Number\n",
      "Even Number\n"
     ]
    }
   ],
   "source": [
    "even_or_odd(3) ## Calling the function\n",
    "even_or_odd(52)\n"
   ]
  },
  {
   "cell_type": "code",
   "execution_count": 10,
   "id": "c318dac6",
   "metadata": {},
   "outputs": [
    {
     "name": "stdout",
     "output_type": "stream",
     "text": [
      "50\n"
     ]
    }
   ],
   "source": [
    "## Function with multiple parameters\n",
    "\n",
    "def add(a,b):\n",
    "    c=a+b\n",
    "    return c\n",
    "    \n",
    "result=add(10,40)\n",
    "print(result)"
   ]
  },
  {
   "cell_type": "code",
   "execution_count": 12,
   "id": "6d0cd3dc",
   "metadata": {},
   "outputs": [
    {
     "name": "stdout",
     "output_type": "stream",
     "text": [
      "Hello Omkar, Welcome to the Paradise\n"
     ]
    }
   ],
   "source": [
    "## Default Parameters\n",
    "\n",
    "def greet(name):\n",
    "    print(f\"Hello {name}, Welcome to the Paradise\")\n",
    "    \n",
    "greet(\"Omkar\")\n"
   ]
  },
  {
   "cell_type": "code",
   "execution_count": null,
   "id": "04fda1dc",
   "metadata": {},
   "outputs": [
    {
     "name": "stdout",
     "output_type": "stream",
     "text": [
      "Hello Guest, Welcome to the Paradise\n",
      "Hello Avyukt, Welcome to the Paradise\n"
     ]
    }
   ],
   "source": [
    "## Default Parameters\n",
    "\n",
    "def greet(name=\"Guest\"): ## Assigning default parameter\n",
    "    print(f\"Hello {name}, Welcome to the Paradise\")\n",
    "    \n",
    "greet()    ## Using default parameters\n",
    "greet(\"Avyukt\")"
   ]
  },
  {
   "cell_type": "code",
   "execution_count": null,
   "id": "25e075d9",
   "metadata": {},
   "outputs": [
    {
     "name": "stdout",
     "output_type": "stream",
     "text": [
      "1\n",
      "3\n",
      "4\n",
      "5\n",
      "6\n",
      "omi\n",
      "avi\n",
      "3.4\n"
     ]
    }
   ],
   "source": [
    "## Variable length arguments\n",
    "## Positional and keyword arguments\n",
    "\n",
    "def print_numbers(*omkar): ## *omkar (args is used globally for positinal arguments) can have multiple parameters\n",
    "    for n in omkar:\n",
    "        print(n)\n",
    "\n",
    "print_numbers(1,3,4,5,6,\"omi\",\"avi\",\"3.4\")"
   ]
  },
  {
   "cell_type": "code",
   "execution_count": null,
   "id": "1c9d2638",
   "metadata": {},
   "outputs": [
    {
     "name": "stdout",
     "output_type": "stream",
     "text": [
      "name:omkar\n",
      "age:32\n",
      "city:Mumbai\n"
     ]
    }
   ],
   "source": [
    "## Keywords Arguments\n",
    "\n",
    "def print_details(**kwargs): ## kwargs - keyword arguments (similar to variable arguments but in key value pair and **)\n",
    "    for key,value in kwargs.items():\n",
    "        print(f\"{key}:{value}\")\n",
    "              \n",
    "print_details(name=\"omkar\",age=32,city=\"Mumbai\")"
   ]
  },
  {
   "cell_type": "code",
   "execution_count": 21,
   "id": "4980e2d7",
   "metadata": {},
   "outputs": [],
   "source": [
    "def print_details(*args,**kwargs):\n",
    "    for val in args:\n",
    "        print(f\"Positional Argument: {val}\")\n",
    "    \n",
    "    for key,value in kwargs.items():\n",
    "        print(f\"{key}:{value}\")"
   ]
  },
  {
   "cell_type": "code",
   "execution_count": 22,
   "id": "5b689e08",
   "metadata": {},
   "outputs": [
    {
     "name": "stdout",
     "output_type": "stream",
     "text": [
      "Positional Argument: 1\n",
      "Positional Argument: 2\n",
      "Positional Argument: 3\n",
      "name:Omkar\n",
      "age:32\n",
      "Grade:A\n"
     ]
    }
   ],
   "source": [
    "print_details(1,2,3,name=\"Omkar\",age=32,Grade=\"A\")"
   ]
  },
  {
   "cell_type": "code",
   "execution_count": null,
   "id": "17f1ed55",
   "metadata": {},
   "outputs": [
    {
     "data": {
      "text/plain": [
       "8"
      ]
     },
     "execution_count": 23,
     "metadata": {},
     "output_type": "execute_result"
    }
   ],
   "source": [
    "## Return Statement\n",
    "\n",
    "def multiply(a,b):\n",
    "    return a*b\n",
    "    \n",
    "multiply(2,4)"
   ]
  },
  {
   "cell_type": "code",
   "execution_count": null,
   "id": "1b2260f5",
   "metadata": {},
   "outputs": [
    {
     "data": {
      "text/plain": [
       "(8, 2)"
      ]
     },
     "execution_count": 24,
     "metadata": {},
     "output_type": "execute_result"
    }
   ],
   "source": [
    "## Return multiple parameters\n",
    "def multiply(a,b):\n",
    "    return a*b,a\n",
    "    \n",
    "multiply(2,4)"
   ]
  },
  {
   "cell_type": "code",
   "execution_count": null,
   "id": "3a8ee3b4",
   "metadata": {},
   "outputs": [],
   "source": []
  }
 ],
 "metadata": {
  "kernelspec": {
   "display_name": "Python 3",
   "language": "python",
   "name": "python3"
  },
  "language_info": {
   "codemirror_mode": {
    "name": "ipython",
    "version": 3
   },
   "file_extension": ".py",
   "mimetype": "text/x-python",
   "name": "python",
   "nbconvert_exporter": "python",
   "pygments_lexer": "ipython3",
   "version": "3.12.11"
  }
 },
 "nbformat": 4,
 "nbformat_minor": 5
}
