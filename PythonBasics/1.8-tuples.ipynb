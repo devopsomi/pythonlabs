{
 "cells": [
  {
   "cell_type": "markdown",
   "id": "3d967064",
   "metadata": {},
   "source": [
    "Tuples:\n",
    " - Tuples are order collection of items that are immutable\n",
    " - Similar to list but immutability makes them different\n",
    " "
   ]
  },
  {
   "cell_type": "code",
   "execution_count": 1,
   "id": "913295cb",
   "metadata": {},
   "outputs": [
    {
     "name": "stdout",
     "output_type": "stream",
     "text": [
      "()\n",
      "<class 'tuple'>\n"
     ]
    }
   ],
   "source": [
    "## Creating a tuple\n",
    "\n",
    "empty_tuple=()\n",
    "print(empty_tuple)\n",
    "print(type(empty_tuple))"
   ]
  },
  {
   "cell_type": "code",
   "execution_count": 5,
   "id": "b2959ffd",
   "metadata": {},
   "outputs": [
    {
     "name": "stdout",
     "output_type": "stream",
     "text": [
      "<class 'list'>\n",
      "<class 'tuple'>\n"
     ]
    }
   ],
   "source": [
    "list1=list() ##Another way to define empty list\n",
    "print(type(list1))\n",
    "tuple1=tuple()  ##Another way to define empty tuple\n",
    "print(type(tuple1))"
   ]
  },
  {
   "cell_type": "code",
   "execution_count": 10,
   "id": "4b67ee30",
   "metadata": {},
   "outputs": [
    {
     "data": {
      "text/plain": [
       "(1, 2, 3, 4, 5, 6)"
      ]
     },
     "execution_count": 10,
     "metadata": {},
     "output_type": "execute_result"
    }
   ],
   "source": [
    "## List can be converted to Tuples and viceversa\n",
    "numbers=tuple([1,2,3,4,5,6]) ## converting list to tuple\n",
    "numbers\n"
   ]
  },
  {
   "cell_type": "code",
   "execution_count": 11,
   "id": "1be50d40",
   "metadata": {},
   "outputs": [
    {
     "data": {
      "text/plain": [
       "[1, 2, 3, 4, 5]"
      ]
     },
     "execution_count": 11,
     "metadata": {},
     "output_type": "execute_result"
    }
   ],
   "source": [
    "list((1,2,3,4,5))  ## converting tuple to list\n"
   ]
  },
  {
   "cell_type": "code",
   "execution_count": 13,
   "id": "5fb6eb1c",
   "metadata": {},
   "outputs": [
    {
     "name": "stdout",
     "output_type": "stream",
     "text": [
      "(1, 'hello', 3.14, True)\n"
     ]
    }
   ],
   "source": [
    "## Mixed tuple\n",
    "mixed_tuple=(1,\"hello\",3.14,True)\n",
    "print(mixed_tuple)"
   ]
  },
  {
   "cell_type": "code",
   "execution_count": 19,
   "id": "7e7e148e",
   "metadata": {},
   "outputs": [
    {
     "name": "stdout",
     "output_type": "stream",
     "text": [
      "3\n",
      "6\n",
      "(3, 4, 5, 6)\n",
      "(6, 5, 4, 3, 2, 1)\n"
     ]
    }
   ],
   "source": [
    "## Accessing Tuple elements\n",
    "\n",
    "numbers=(1,2,3,4,5,6)\n",
    "\n",
    "print(numbers[2])\n",
    "print(numbers[-1]) ## Last element\n",
    "print(numbers[2:6])\n",
    "print(numbers[::-1])\n"
   ]
  },
  {
   "cell_type": "code",
   "execution_count": 21,
   "id": "9d28b316",
   "metadata": {},
   "outputs": [
    {
     "name": "stdout",
     "output_type": "stream",
     "text": [
      "(1, 2, 3, 4, 5, 6, 1, 'hello', 3.14, True)\n"
     ]
    }
   ],
   "source": [
    "## Tuple operations\n",
    "\n",
    "concatenation_tuple=numbers + mixed_tuple\n",
    "print(concatenation_tuple)\n"
   ]
  },
  {
   "cell_type": "code",
   "execution_count": null,
   "id": "41c8fd4b",
   "metadata": {},
   "outputs": [
    {
     "data": {
      "text/plain": [
       "(1, 'hello', 3.14, True, 1, 'hello', 3.14, True, 1, 'hello', 3.14, True)"
      ]
     },
     "execution_count": 22,
     "metadata": {},
     "output_type": "execute_result"
    }
   ],
   "source": [
    "mixed_tuple * 3 ## Entire tuple gets appended 3 times"
   ]
  },
  {
   "cell_type": "code",
   "execution_count": 24,
   "id": "b9f8bab0",
   "metadata": {},
   "outputs": [
    {
     "name": "stdout",
     "output_type": "stream",
     "text": [
      "[1, 2, 3, 4, 5, 6]\n",
      "[1, 'Omkar', 3, 4, 5, 6]\n"
     ]
    }
   ],
   "source": [
    "## Immutable nature of Tuples\n",
    "## Tuples are immutable, meaning their elements cannot be changed once assignged\n",
    "\n",
    "list1=[1,2,3,4,5,6]\n",
    "print(list1)\n",
    "list1[1]=\"Omkar\"\n",
    "print(list1)"
   ]
  },
  {
   "cell_type": "code",
   "execution_count": 26,
   "id": "f5ac8368",
   "metadata": {},
   "outputs": [
    {
     "ename": "TypeError",
     "evalue": "'tuple' object does not support item assignment",
     "output_type": "error",
     "traceback": [
      "\u001b[31m---------------------------------------------------------------------------\u001b[39m",
      "\u001b[31mTypeError\u001b[39m                                 Traceback (most recent call last)",
      "\u001b[36mCell\u001b[39m\u001b[36m \u001b[39m\u001b[32mIn[26]\u001b[39m\u001b[32m, line 2\u001b[39m\n\u001b[32m      1\u001b[39m numbers=(\u001b[32m1\u001b[39m,\u001b[32m2\u001b[39m,\u001b[32m3\u001b[39m,\u001b[32m4\u001b[39m,\u001b[32m5\u001b[39m,\u001b[32m6\u001b[39m)\n\u001b[32m----> \u001b[39m\u001b[32m2\u001b[39m \u001b[43mnumbers\u001b[49m\u001b[43m[\u001b[49m\u001b[32;43m1\u001b[39;49m\u001b[43m]\u001b[49m=\u001b[33m\"\u001b[39m\u001b[33mOmkar\u001b[39m\u001b[33m\"\u001b[39m \u001b[38;5;66;03m## Cannot update tuple elements as it is immutable\u001b[39;00m\n",
      "\u001b[31mTypeError\u001b[39m: 'tuple' object does not support item assignment"
     ]
    }
   ],
   "source": [
    "numbers=(1,2,3,4,5,6)\n",
    "numbers[1]=\"Omkar\" ## Cannot update tuple elements as it is immutable"
   ]
  },
  {
   "cell_type": "code",
   "execution_count": 27,
   "id": "31d09aee",
   "metadata": {},
   "outputs": [
    {
     "data": {
      "text/plain": [
       "(1, 2, 3, 4, 5, 6)"
      ]
     },
     "execution_count": 27,
     "metadata": {},
     "output_type": "execute_result"
    }
   ],
   "source": [
    "## Tuple Methods\n",
    "\n",
    "numbers"
   ]
  },
  {
   "cell_type": "code",
   "execution_count": 31,
   "id": "3e6dbdd4",
   "metadata": {},
   "outputs": [
    {
     "name": "stdout",
     "output_type": "stream",
     "text": [
      "1\n",
      "4\n"
     ]
    }
   ],
   "source": [
    "## Tuple Methods\n",
    "\n",
    "print(numbers.count(3))  ## Count how many time number 3 is present in the tuple\n",
    "print(numbers.index(5))  ## At what index is the element 5 present in the tuple \n"
   ]
  },
  {
   "cell_type": "code",
   "execution_count": null,
   "id": "1df16b42",
   "metadata": {},
   "outputs": [
    {
     "name": "stdout",
     "output_type": "stream",
     "text": [
      "(1, 'hello', 3.14)\n"
     ]
    }
   ],
   "source": [
    "## Packing and unpacking tuple\n",
    "\n",
    "packed_tuple=1,\"hello\",3.14 ## By default it will be packed as a tuple\n",
    "print(packed_tuple)"
   ]
  },
  {
   "cell_type": "code",
   "execution_count": 34,
   "id": "9afb571d",
   "metadata": {},
   "outputs": [
    {
     "name": "stdout",
     "output_type": "stream",
     "text": [
      "1\n",
      "hello\n"
     ]
    }
   ],
   "source": [
    "## unpacking a tuple\n",
    "\n",
    "a,b,c=packed_tuple \n",
    "print(a) \n",
    "print(b)"
   ]
  },
  {
   "cell_type": "code",
   "execution_count": null,
   "id": "b776cc6f",
   "metadata": {},
   "outputs": [
    {
     "name": "stdout",
     "output_type": "stream",
     "text": [
      "1\n",
      "[2, 3, 4, 5]\n",
      "6\n"
     ]
    }
   ],
   "source": [
    "## unpacking with *\n",
    "\n",
    "numbers=(1,2,3,4,5,6)\n",
    "first,*middle,last=numbers\n",
    "print(first)\n",
    "print(middle) ## Took all the remaining elements before the last element in a list\n",
    "print(last)"
   ]
  },
  {
   "cell_type": "code",
   "execution_count": null,
   "id": "bd277e3d",
   "metadata": {},
   "outputs": [
    {
     "data": {
      "text/plain": [
       "[1, 'hello', 3.14]"
      ]
     },
     "execution_count": 39,
     "metadata": {},
     "output_type": "execute_result"
    }
   ],
   "source": [
    "## Nested Tuples\n",
    "## Nested List\n",
    "\n",
    "list1=[[1,2,3,4],[6,7,8,9],[1,\"hello\",3.14,\"c\"]]\n",
    "list1[0]\n",
    "list1[2][0:3]\n",
    "\n",
    "list1=[[1,2,3,4],[6,7,8,9],(1,\"hello\",3.14,\"c\")] ## list can also have a tuple\n",
    "list1[0]\n",
    "list1[2][0:3]"
   ]
  },
  {
   "cell_type": "code",
   "execution_count": 40,
   "id": "e10c9331",
   "metadata": {},
   "outputs": [
    {
     "name": "stdout",
     "output_type": "stream",
     "text": [
      "(1, 2, 3)\n",
      "c\n"
     ]
    }
   ],
   "source": [
    "nested_tuple=((1,2,3,),(\"a\",\"b\",\"c\"),(True,False))\n",
    "print(nested_tuple[0])\n",
    "print(nested_tuple[1][2])"
   ]
  },
  {
   "cell_type": "code",
   "execution_count": null,
   "id": "7eef17fc",
   "metadata": {},
   "outputs": [],
   "source": []
  }
 ],
 "metadata": {
  "kernelspec": {
   "display_name": "Python 3",
   "language": "python",
   "name": "python3"
  },
  "language_info": {
   "codemirror_mode": {
    "name": "ipython",
    "version": 3
   },
   "file_extension": ".py",
   "mimetype": "text/x-python",
   "name": "python",
   "nbconvert_exporter": "python",
   "pygments_lexer": "ipython3",
   "version": "3.12.11"
  }
 },
 "nbformat": 4,
 "nbformat_minor": 5
}
