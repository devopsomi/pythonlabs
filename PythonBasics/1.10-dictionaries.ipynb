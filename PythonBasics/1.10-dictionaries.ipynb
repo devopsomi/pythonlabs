{
 "cells": [
  {
   "cell_type": "markdown",
   "id": "ddfb5565",
   "metadata": {},
   "source": [
    "Dictionaries:\n",
    "- Unordered collections of items\n",
    "- Store data in key-value pairs\n",
    "- key must be unique and immutable(eg. strings, numbers or tuple) while values can be of any type"
   ]
  },
  {
   "cell_type": "code",
   "execution_count": 2,
   "id": "10ac938e",
   "metadata": {},
   "outputs": [
    {
     "name": "stdout",
     "output_type": "stream",
     "text": [
      "<class 'dict'>\n"
     ]
    }
   ],
   "source": [
    "## Creating Dictionaries\n",
    "empty_dict={}\n",
    "print(type(empty_dict))"
   ]
  },
  {
   "cell_type": "markdown",
   "id": "b646df47",
   "metadata": {},
   "source": []
  },
  {
   "cell_type": "code",
   "execution_count": 3,
   "id": "923c08a1",
   "metadata": {},
   "outputs": [
    {
     "name": "stdout",
     "output_type": "stream",
     "text": [
      "<class 'dict'>\n"
     ]
    }
   ],
   "source": [
    "empty_dict=dict()\n",
    "print(type(empty_dict))"
   ]
  },
  {
   "cell_type": "code",
   "execution_count": 5,
   "id": "3d8e09e2",
   "metadata": {},
   "outputs": [
    {
     "name": "stdout",
     "output_type": "stream",
     "text": [
      "{'name': 'Omkar', 'age': 32, 'grade': 33}\n",
      "<class 'dict'>\n"
     ]
    }
   ],
   "source": [
    "student={\"name\":\"Omkar\",\"age\":32,\"grade\":33}\n",
    "print(student)\n",
    "print(type(student))"
   ]
  },
  {
   "cell_type": "code",
   "execution_count": 7,
   "id": "4e0df163",
   "metadata": {},
   "outputs": [
    {
     "name": "stdout",
     "output_type": "stream",
     "text": [
      "{'name': 33, 'age': 32}\n"
     ]
    }
   ],
   "source": [
    "## Error\n",
    "student={\"name\":\"Omkar\",\"age\":32,\"name\":33} \n",
    "print(student) ##Check the value for name, key with same name should not be used. \n"
   ]
  },
  {
   "cell_type": "code",
   "execution_count": 12,
   "id": "997f87ea",
   "metadata": {},
   "outputs": [
    {
     "name": "stdout",
     "output_type": "stream",
     "text": [
      "A\n",
      "32\n",
      "Omkar\n",
      "None\n",
      "Not Avaialable\n"
     ]
    }
   ],
   "source": [
    "## Accessing dictionary elements\n",
    "student={\"name\":\"Omkar\",\"age\":32,\"grade\":\"A\"}\n",
    "print(student['grade'])\n",
    "print(student['age'])\n",
    "\n",
    "## Accessing using get() method\n",
    "print(student.get('name'))\n",
    "print(student.get('last_name'))\n",
    "print(student.get('last_name',\"Not Avaialable\"))\n"
   ]
  },
  {
   "cell_type": "code",
   "execution_count": 13,
   "id": "99647cbe",
   "metadata": {},
   "outputs": [
    {
     "name": "stdout",
     "output_type": "stream",
     "text": [
      "{'name': 'Omkar', 'age': 32, 'grade': 'A'}\n"
     ]
    }
   ],
   "source": [
    "## Modifying Dictionary Elements\n",
    "## Dictionary are mutable, so you can add, update or delete elements\n",
    "\n",
    "print(student)"
   ]
  },
  {
   "cell_type": "code",
   "execution_count": null,
   "id": "133b6dea",
   "metadata": {},
   "outputs": [
    {
     "name": "stdout",
     "output_type": "stream",
     "text": [
      "{'name': 'Omkar', 'age': 23, 'grade': 'A', 'address': 'India'}\n",
      "{'name': 'Omkar', 'age': 23, 'grade': 'A', 'address': 'India'}\n"
     ]
    }
   ],
   "source": [
    "student[\"age\"]=23 ## Updated the value for the key age\n",
    "print(student)\n",
    "student[\"address\"]=\"India\"    ## Added a new key and value\n",
    "print(student)"
   ]
  },
  {
   "cell_type": "code",
   "execution_count": null,
   "id": "c67351ca",
   "metadata": {},
   "outputs": [
    {
     "name": "stdout",
     "output_type": "stream",
     "text": [
      "{'name': 'Omkar', 'age': 23, 'address': 'India'}\n"
     ]
    }
   ],
   "source": [
    "## Delete the key\n",
    "del student[\"grade\"]     ## delete key and value pair\n",
    "print(student)"
   ]
  },
  {
   "cell_type": "code",
   "execution_count": null,
   "id": "7ccab8f6",
   "metadata": {},
   "outputs": [
    {
     "name": "stdout",
     "output_type": "stream",
     "text": [
      "dict_keys(['name', 'age', 'address'])\n",
      "dict_values(['Omkar', 23, 'India'])\n",
      "dict_items([('name', 'Omkar'), ('age', 23), ('address', 'India')])\n"
     ]
    }
   ],
   "source": [
    "## Common Dictionary methods\n",
    "\n",
    "keys=student.keys()     ## get all keys\n",
    "print(keys)\n",
    "values=student.values()   ## get all values\n",
    "print(values)\n",
    "items=student.items()   ## get all key value pairs\n",
    "print(items) "
   ]
  },
  {
   "cell_type": "code",
   "execution_count": 20,
   "id": "0ee4ad65",
   "metadata": {},
   "outputs": [
    {
     "name": "stdout",
     "output_type": "stream",
     "text": [
      "{'name': 'Omkar', 'age': 23, 'address': 'India'}\n",
      "{'name': 'Omkar', 'age': 23, 'address': 'India'}\n"
     ]
    }
   ],
   "source": [
    "## Shallow copy\n",
    "\n",
    "student_copy=student\n",
    "print(student)\n",
    "print(student_copy)"
   ]
  },
  {
   "cell_type": "code",
   "execution_count": null,
   "id": "992b7a7f",
   "metadata": {},
   "outputs": [
    {
     "name": "stdout",
     "output_type": "stream",
     "text": [
      "{'name': 'Omkar1', 'age': 23, 'address': 'India'}\n",
      "{'name': 'Omkar1', 'age': 23, 'address': 'India'}\n"
     ]
    }
   ],
   "source": [
    "student[\"name\"]=\"Omkar1\"\n",
    "print(student)\n",
    "print(student_copy) "
   ]
  },
  {
   "cell_type": "code",
   "execution_count": null,
   "id": "3bd56248",
   "metadata": {},
   "outputs": [
    {
     "name": "stdout",
     "output_type": "stream",
     "text": [
      "{'name': 'Omkar1', 'age': 23, 'address': 'India'}\n",
      "{'name': 'Omkar1', 'age': 23, 'address': 'India'}\n"
     ]
    }
   ],
   "source": [
    "student_copy1=student.copy() ## Shallow copy. Different memory location assigned\n",
    "print(student_copy1)\n",
    "print(student)"
   ]
  },
  {
   "cell_type": "code",
   "execution_count": 23,
   "id": "c631430d",
   "metadata": {},
   "outputs": [
    {
     "name": "stdout",
     "output_type": "stream",
     "text": [
      "{'name': 'Omkar2', 'age': 23, 'address': 'India'}\n",
      "{'name': 'Omkar1', 'age': 23, 'address': 'India'}\n"
     ]
    }
   ],
   "source": [
    "student[\"name\"]=\"Omkar2\"\n",
    "print(student)\n",
    "print(student_copy1) "
   ]
  },
  {
   "cell_type": "code",
   "execution_count": 26,
   "id": "0511f299",
   "metadata": {},
   "outputs": [
    {
     "name": "stdout",
     "output_type": "stream",
     "text": [
      "name\n",
      "age\n",
      "address\n",
      "Omkar2\n",
      "23\n",
      "India\n",
      "name:Omkar2\n",
      "age:23\n",
      "address:India\n"
     ]
    }
   ],
   "source": [
    "## Iterating over Dictionaries\n",
    "## You can use loops to iterate over dictionaries, keys, values, items\n",
    "\n",
    "## Iterating over keys\n",
    "for keys in student.keys():\n",
    "    print(keys)\n",
    "\n",
    "\n",
    "## Iterating over value\n",
    "for vals in student.values():\n",
    "    print(vals)\n",
    "\n",
    "\n",
    "## Iterating over keys value pairs\n",
    "for key,value in student.items():\n",
    "    print(f\"{key}:{value}\")"
   ]
  },
  {
   "cell_type": "code",
   "execution_count": 28,
   "id": "82b43833",
   "metadata": {},
   "outputs": [
    {
     "name": "stdout",
     "output_type": "stream",
     "text": [
      "{'student1': {'name': 'Avyukt', 'Age': 1}, 'student2': {'name': 'Neelam', 'Age': 31}}\n"
     ]
    }
   ],
   "source": [
    "## Nested Dictionaries\n",
    "\n",
    "students={\n",
    "    \"student1\":{\"name\":\"Avyukt\",\"Age\":1},\n",
    "    \"student2\":{\"name\":\"Neelam\",\"Age\":31}\n",
    "}\n",
    "\n",
    "print(students)\n"
   ]
  },
  {
   "cell_type": "code",
   "execution_count": 29,
   "id": "269a60f2",
   "metadata": {},
   "outputs": [
    {
     "name": "stdout",
     "output_type": "stream",
     "text": [
      "Neelam\n",
      "31\n"
     ]
    }
   ],
   "source": [
    "## Access Nested Dictionary elements\n",
    "print(students[\"student2\"][\"name\"])\n",
    "print(students[\"student2\"][\"Age\"])"
   ]
  },
  {
   "cell_type": "code",
   "execution_count": 32,
   "id": "479f3e10",
   "metadata": {},
   "outputs": [
    {
     "name": "stdout",
     "output_type": "stream",
     "text": [
      "student1\n",
      "{'name': 'Avyukt', 'Age': 1}\n",
      "name:Avyukt\n",
      "Age:1\n",
      "student2\n",
      "{'name': 'Neelam', 'Age': 31}\n",
      "name:Neelam\n",
      "Age:31\n"
     ]
    }
   ],
   "source": [
    "## Iterating over Nested Dictionaries\n",
    "for student_id,student_info in students.items():\n",
    "    print(f\"{student_id}\")\n",
    "    print(f\"{student_info}\")\n",
    "    for key,value in student_info.items():\n",
    "        print(f\"{key}:{value}\")\n"
   ]
  },
  {
   "cell_type": "code",
   "execution_count": 33,
   "id": "ad6adb3b",
   "metadata": {},
   "outputs": [
    {
     "name": "stdout",
     "output_type": "stream",
     "text": [
      "{0: 0, 1: 1, 2: 4, 3: 9, 4: 16}\n"
     ]
    }
   ],
   "source": [
    "## Dictionary Comprehension\n",
    "\n",
    "squares={x:x**2 for x in range(5)}\n",
    "print(squares)"
   ]
  },
  {
   "cell_type": "code",
   "execution_count": 34,
   "id": "2066eab6",
   "metadata": {},
   "outputs": [
    {
     "name": "stdout",
     "output_type": "stream",
     "text": [
      "{0: 0, 2: 4, 4: 16, 6: 36, 8: 64}\n"
     ]
    }
   ],
   "source": [
    "## Conditional Dictionary Comprehension\n",
    "\n",
    "evens={x:x**2 for x in range(10) if x%2==0}\n",
    "print(evens)"
   ]
  },
  {
   "cell_type": "code",
   "execution_count": 37,
   "id": "5aa5a6ba",
   "metadata": {},
   "outputs": [
    {
     "name": "stdout",
     "output_type": "stream",
     "text": [
      "{1: 1, 2: 1, 3: 3, 4: 3}\n"
     ]
    }
   ],
   "source": [
    "## Practical Examples\n",
    "## Use a dictionary to count the frequence of elements in the list\n",
    "\n",
    "numbers=[1,2,3,3,4,4,4,3]\n",
    "\n",
    "frequency={}\n",
    "\n",
    "for num in numbers:\n",
    "    if num in frequency:\n",
    "        frequency[num]+=1\n",
    "    else:\n",
    "        frequency[num]=1\n",
    "print(frequency)"
   ]
  },
  {
   "cell_type": "code",
   "execution_count": 39,
   "id": "a48b56cd",
   "metadata": {},
   "outputs": [
    {
     "name": "stdout",
     "output_type": "stream",
     "text": [
      "{'a': 1, 'b': 3, 'c': 4}\n"
     ]
    }
   ],
   "source": [
    "## Merge 2 dictionaries\n",
    "\n",
    "dict1={\"a\":1,\"b\":2}\n",
    "dict2={\"b\":3,\"c\":4}\n",
    "\n",
    "merged_dict={**dict1,**dict2}\n",
    "print(merged_dict)"
   ]
  },
  {
   "cell_type": "code",
   "execution_count": null,
   "id": "60de9100",
   "metadata": {},
   "outputs": [],
   "source": []
  }
 ],
 "metadata": {
  "kernelspec": {
   "display_name": "Python 3",
   "language": "python",
   "name": "python3"
  },
  "language_info": {
   "codemirror_mode": {
    "name": "ipython",
    "version": 3
   },
   "file_extension": ".py",
   "mimetype": "text/x-python",
   "name": "python",
   "nbconvert_exporter": "python",
   "pygments_lexer": "ipython3",
   "version": "3.12.11"
  }
 },
 "nbformat": 4,
 "nbformat_minor": 5
}
