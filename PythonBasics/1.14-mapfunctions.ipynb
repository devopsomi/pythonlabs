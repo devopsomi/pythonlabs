{
 "cells": [
  {
   "cell_type": "markdown",
   "id": "6c8ef492",
   "metadata": {},
   "source": [
    "map() Functions\n",
    "- Applies a given function to all items in an input list\n",
    "- Returns a map object(an iterator)\n",
    "- Useful for transforming data in a list comprehensively"
   ]
  },
  {
   "cell_type": "code",
   "execution_count": 3,
   "id": "5ad223bf",
   "metadata": {},
   "outputs": [
    {
     "data": {
      "text/plain": [
       "100"
      ]
     },
     "execution_count": 3,
     "metadata": {},
     "output_type": "execute_result"
    }
   ],
   "source": [
    "def square(x):\n",
    "    return x*x\n",
    "\n",
    "square(10)"
   ]
  },
  {
   "cell_type": "code",
   "execution_count": null,
   "id": "5f3e9725",
   "metadata": {},
   "outputs": [
    {
     "data": {
      "text/plain": [
       "[1, 4, 9, 16, 25, 36]"
      ]
     },
     "execution_count": 5,
     "metadata": {},
     "output_type": "execute_result"
    }
   ],
   "source": [
    "numbers=[1,2,3,4,5,6]\n",
    "\n",
    "## To get square of all the elements for the list - numbers\n",
    "## Will have to use loop\n",
    "## Instead we can use a map() function\n",
    "\n",
    "list(map(square,numbers))"
   ]
  },
  {
   "cell_type": "code",
   "execution_count": 8,
   "id": "34ebb304",
   "metadata": {},
   "outputs": [
    {
     "data": {
      "text/plain": [
       "[1, 4, 9, 16, 25, 36]"
      ]
     },
     "execution_count": 8,
     "metadata": {},
     "output_type": "execute_result"
    }
   ],
   "source": [
    "## Lambda Function with map()\n",
    "numbers=[1,2,3,4,5,6]\n",
    "list(map(lambda x:x*x,numbers))"
   ]
  },
  {
   "cell_type": "code",
   "execution_count": 10,
   "id": "16f2ed19",
   "metadata": {},
   "outputs": [
    {
     "name": "stdout",
     "output_type": "stream",
     "text": [
      "[5, 7, 9]\n"
     ]
    }
   ],
   "source": [
    "## Map multiple iterables\n",
    "\n",
    "numbers1=[1,2,3]\n",
    "numbers2=[4,5,6]\n",
    "\n",
    "added_numbers=list(map(lambda x,y:x+y,numbers1,numbers2))\n",
    "print(added_numbers)"
   ]
  },
  {
   "cell_type": "code",
   "execution_count": null,
   "id": "d7227f72",
   "metadata": {},
   "outputs": [
    {
     "name": "stdout",
     "output_type": "stream",
     "text": [
      "[1, 2, 3]\n"
     ]
    }
   ],
   "source": [
    "## map() to convert list of string to integers\n",
    "\n",
    "str_numbers=['1','2','3']\n",
    "int_numbers=list(map(int,str_numbers))  ## int is an inbuilt function/\n",
    "print(int_numbers)"
   ]
  },
  {
   "cell_type": "code",
   "execution_count": 12,
   "id": "64edf017",
   "metadata": {},
   "outputs": [
    {
     "name": "stdout",
     "output_type": "stream",
     "text": [
      "['APPLE', 'BANANA', 'CHERRY']\n"
     ]
    }
   ],
   "source": [
    "words=[\"apple\",\"banana\",\"cherry\"]\n",
    "upper_words=list(map(str.upper,words))\n",
    "\n",
    "print(upper_words)"
   ]
  },
  {
   "cell_type": "code",
   "execution_count": null,
   "id": "bcca7070",
   "metadata": {},
   "outputs": [
    {
     "data": {
      "text/plain": [
       "['Omkar', 'Jack']"
      ]
     },
     "execution_count": 14,
     "metadata": {},
     "output_type": "execute_result"
    }
   ],
   "source": [
    "def get_name(person):\n",
    "    return person['name']\n",
    "\n",
    "people=[\n",
    "    {'name':'Omkar','age':32},\n",
    "    {'name':'Jack','age':33}\n",
    "]\n",
    "\n",
    "list(map(get_name,people)) ## get_name function used and peope list "
   ]
  },
  {
   "cell_type": "code",
   "execution_count": null,
   "id": "fc5f5f4f",
   "metadata": {},
   "outputs": [],
   "source": []
  }
 ],
 "metadata": {
  "kernelspec": {
   "display_name": "Python 3",
   "language": "python",
   "name": "python3"
  },
  "language_info": {
   "codemirror_mode": {
    "name": "ipython",
    "version": 3
   },
   "file_extension": ".py",
   "mimetype": "text/x-python",
   "name": "python",
   "nbconvert_exporter": "python",
   "pygments_lexer": "ipython3",
   "version": "3.12.11"
  }
 },
 "nbformat": 4,
 "nbformat_minor": 5
}
