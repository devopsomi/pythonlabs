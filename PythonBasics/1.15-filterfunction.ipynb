{
 "cells": [
  {
   "cell_type": "markdown",
   "id": "de448be8",
   "metadata": {},
   "source": [
    "filter() Function\n",
    "- constructs an iterator from elements of iterable for which function returns True\n",
    "- used to filter out items from a list based on a condition\n",
    "- used for data cleaning and removing unwanted elements from list\n",
    " \n"
   ]
  },
  {
   "cell_type": "code",
   "execution_count": 1,
   "id": "66e6708b",
   "metadata": {},
   "outputs": [
    {
     "data": {
      "text/plain": [
       "True"
      ]
     },
     "execution_count": 1,
     "metadata": {},
     "output_type": "execute_result"
    }
   ],
   "source": [
    "def even(num):\n",
    "    if num%2==0:\n",
    "        return True\n",
    "    \n",
    "even(4)"
   ]
  },
  {
   "cell_type": "code",
   "execution_count": null,
   "id": "3484f9ee",
   "metadata": {},
   "outputs": [
    {
     "data": {
      "text/plain": [
       "[2, 4, 6, 8]"
      ]
     },
     "execution_count": 2,
     "metadata": {},
     "output_type": "execute_result"
    }
   ],
   "source": [
    "lst=[1,2,3,4,5,6,7,8,9]\n",
    "\n",
    "list(filter(even,lst)) ## Applies filter on the input list based on function"
   ]
  },
  {
   "cell_type": "code",
   "execution_count": null,
   "id": "f22b823c",
   "metadata": {},
   "outputs": [
    {
     "name": "stdout",
     "output_type": "stream",
     "text": [
      "[45, 65, 6, 7, 78, 8, 83, 45]\n"
     ]
    }
   ],
   "source": [
    "## Filter with a lambda function\n",
    "numbers=[1,2,4,45,5,65,6,7,78,8,83,3,4,45,]\n",
    "\n",
    "greater_than_five=list(filter(lambda num:num>5,numbers))\n",
    "print(greater_than_five)"
   ]
  },
  {
   "cell_type": "code",
   "execution_count": 6,
   "id": "08f7c26b",
   "metadata": {},
   "outputs": [
    {
     "name": "stdout",
     "output_type": "stream",
     "text": [
      "[6, 78, 8]\n"
     ]
    }
   ],
   "source": [
    "## filter with a lambda function and multiple conditions\n",
    "numbers=[1,2,4,45,5,65,6,7,78,8,83,3,4,45,]\n",
    "\n",
    "even_greater_than_five=list(filter(lambda num:num>5 and num%2==0,numbers))\n",
    "print(even_greater_than_five)"
   ]
  },
  {
   "cell_type": "code",
   "execution_count": 9,
   "id": "4478ab34",
   "metadata": {},
   "outputs": [
    {
     "data": {
      "text/plain": [
       "[{'name': 'Omkar', 'age': 32}, {'name': 'Jack', 'age': 33}]"
      ]
     },
     "execution_count": 9,
     "metadata": {},
     "output_type": "execute_result"
    }
   ],
   "source": [
    "## filter to check if the age is greater than 25 in dictionary\n",
    "\n",
    "people=[\n",
    "    {'name':'Omkar','age':32},\n",
    "    {'name':'Jack','age':33},\n",
    "    {'name':'Avyukt','age':1},\n",
    "    {'name':'Mansi','age':10}\n",
    "]\n",
    "\n",
    "def age_greater_than_25(person):\n",
    "    return person['age']>25\n",
    "\n",
    "list(filter(age_greater_than_25,people))\n"
   ]
  },
  {
   "cell_type": "code",
   "execution_count": null,
   "id": "36406e5b",
   "metadata": {},
   "outputs": [],
   "source": []
  }
 ],
 "metadata": {
  "kernelspec": {
   "display_name": "Python 3",
   "language": "python",
   "name": "python3"
  },
  "language_info": {
   "codemirror_mode": {
    "name": "ipython",
    "version": 3
   },
   "file_extension": ".py",
   "mimetype": "text/x-python",
   "name": "python",
   "nbconvert_exporter": "python",
   "pygments_lexer": "ipython3",
   "version": "3.12.11"
  }
 },
 "nbformat": 4,
 "nbformat_minor": 5
}
