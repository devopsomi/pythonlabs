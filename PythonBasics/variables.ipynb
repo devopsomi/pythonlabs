{
 "cells": [
  {
   "cell_type": "code",
   "execution_count": null,
   "id": "85c1c135",
   "metadata": {},
   "outputs": [],
   "source": [
    "## Variables"
   ]
  },
  {
   "cell_type": "code",
   "execution_count": 1,
   "id": "2755e1a4",
   "metadata": {},
   "outputs": [
    {
     "name": "stdout",
     "output_type": "stream",
     "text": [
      "age: 33\n",
      "Height: 5.5\n",
      "Name: Omkar\n"
     ]
    }
   ],
   "source": [
    "## Declaring variables\n",
    "age=33\n",
    "height=5.5\n",
    "name=\"Omkar\"\n",
    "\n",
    "## printing variables\n",
    "print(\"age:\", age)\n",
    "print(\"Height:\", height)\n",
    "print(\"Name:\", name  )"
   ]
  },
  {
   "cell_type": "code",
   "execution_count": null,
   "id": "f3bd6b04",
   "metadata": {},
   "outputs": [],
   "source": [
    "## Naming Conventions\n",
    "\n",
    "## Names should be descriptive\n",
    "## Must start with a letter or an \"_\" and contains letter, numbers and underscore\n",
    "## variable names are case sensitive"
   ]
  },
  {
   "cell_type": "code",
   "execution_count": 2,
   "id": "b0a11c96",
   "metadata": {},
   "outputs": [
    {
     "name": "stdout",
     "output_type": "stream",
     "text": [
      "<class 'int'>\n",
      "<class 'float'>\n",
      "<class 'str'>\n",
      "<class 'bool'>\n"
     ]
    }
   ],
   "source": [
    "## Variable Types\n",
    "## Python variable types are determined at runtime\n",
    "age=33 #int\n",
    "height=5.5 #float\n",
    "name=\"Omkar\" #string\n",
    "is_student=False #bool\n",
    "\n",
    "## printing variables\n",
    "print(type(age))\n",
    "print(type(height))\n",
    "print(type(name))\n",
    "print(type(is_student))\n",
    "\n"
   ]
  },
  {
   "cell_type": "code",
   "execution_count": 3,
   "id": "c54ca910",
   "metadata": {},
   "outputs": [
    {
     "name": "stdout",
     "output_type": "stream",
     "text": [
      "33\n",
      "<class 'str'>\n"
     ]
    }
   ],
   "source": [
    "## Type conversion\n",
    "age=33;\n",
    "age_str=str(age)\n",
    "print(age_str)\n",
    "print(type(age_str))"
   ]
  },
  {
   "cell_type": "code",
   "execution_count": 4,
   "id": "7abfd288",
   "metadata": {},
   "outputs": [
    {
     "data": {
      "text/plain": [
       "float"
      ]
     },
     "execution_count": 4,
     "metadata": {},
     "output_type": "execute_result"
    }
   ],
   "source": [
    "height=5.5\n",
    "type(height)"
   ]
  },
  {
   "cell_type": "code",
   "execution_count": null,
   "id": "053e5d22",
   "metadata": {},
   "outputs": [
    {
     "data": {
      "text/plain": [
       "5"
      ]
     },
     "execution_count": 5,
     "metadata": {},
     "output_type": "execute_result"
    }
   ],
   "source": [
    "## Can we convert above float type to int?\n",
    "\n",
    "int(height)"
   ]
  },
  {
   "cell_type": "code",
   "execution_count": 6,
   "id": "4d8c3173",
   "metadata": {},
   "outputs": [
    {
     "data": {
      "text/plain": [
       "5.0"
      ]
     },
     "execution_count": 6,
     "metadata": {},
     "output_type": "execute_result"
    }
   ],
   "source": [
    "## Can we convert above int type to float?\n",
    "\n",
    "float(int(height))"
   ]
  },
  {
   "cell_type": "code",
   "execution_count": 10,
   "id": "6cb1aa86",
   "metadata": {},
   "outputs": [
    {
     "name": "stdout",
     "output_type": "stream",
     "text": [
      "10 <class 'int'>\n",
      "hello <class 'str'>\n"
     ]
    }
   ],
   "source": [
    "## Dynamic Typing\n",
    "## Python allows the type of variable to change as the program executes\n",
    "\n",
    "var=10\n",
    "print(var,type(var))\n",
    "\n",
    "var=\"hello\"\n",
    "print(var,type(var))"
   ]
  },
  {
   "cell_type": "code",
   "execution_count": 13,
   "id": "c68cd6cd",
   "metadata": {},
   "outputs": [
    {
     "name": "stdout",
     "output_type": "stream",
     "text": [
      "33 <class 'str'>\n",
      "23 <class 'int'>\n"
     ]
    }
   ],
   "source": [
    "## Input\n",
    "\n",
    "age=input(\"What is the age?\")\n",
    "print(age,type(age))\n",
    "\n",
    "age=int(input(\"What is the age?\"))\n",
    "print(age,type(age))"
   ]
  }
 ],
 "metadata": {
  "kernelspec": {
   "display_name": "Python 3",
   "language": "python",
   "name": "python3"
  },
  "language_info": {
   "codemirror_mode": {
    "name": "ipython",
    "version": 3
   },
   "file_extension": ".py",
   "mimetype": "text/x-python",
   "name": "python",
   "nbconvert_exporter": "python",
   "pygments_lexer": "ipython3",
   "version": "3.12.11"
  }
 },
 "nbformat": 4,
 "nbformat_minor": 5
}
