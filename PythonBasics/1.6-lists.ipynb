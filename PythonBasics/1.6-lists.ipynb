{
 "cells": [
  {
   "cell_type": "markdown",
   "id": "aa60f7ae",
   "metadata": {},
   "source": [
    "Example 1. Manage a To Do list\n"
   ]
  },
  {
   "cell_type": "code",
   "execution_count": 2,
   "id": "06d30f7f",
   "metadata": {},
   "outputs": [
    {
     "name": "stdout",
     "output_type": "stream",
     "text": [
      "Don't forget to pay the bill\n",
      "To Do List remaining:\n",
      "-Buy Groceries\n",
      "-Pay Bills\n",
      "-Schedule meeting\n",
      "-Go for a run\n"
     ]
    }
   ],
   "source": [
    "to_do_list=[\"Buy Groceries\",\"Clean the house\",\"Pay Bills\"]\n",
    "\n",
    "## Adding to a task\n",
    "to_do_list.append(\"Schedule meeting\")\n",
    "to_do_list.append(\"Go for a run\")\n",
    "\n",
    "## Removing a completed task\n",
    "to_do_list.remove(\"Clean the house\")\n",
    "\n",
    "## Checking if a task is in the list\n",
    "if \"Pay Bills\" in to_do_list:\n",
    "    print(\"Don't forget to pay the bill\")\n",
    "\n",
    "print(\"To Do List remaining:\")\n",
    "for task in to_do_list:\n",
    "    print(f\"-{task}\")  "
   ]
  },
  {
   "cell_type": "code",
   "execution_count": 6,
   "id": "d1efaf18",
   "metadata": {},
   "outputs": [
    {
     "name": "stdout",
     "output_type": "stream",
     "text": [
      "Average Grade: 88.000\n",
      "Highest Grades 95\n",
      "Lowest Grades 78\n"
     ]
    }
   ],
   "source": [
    "## Organizing Student grades\n",
    "\n",
    "grades=[85,92,78,90,88]\n",
    "\n",
    "## Adding a new grade\n",
    "grades.append(95)\n",
    "\n",
    "## Calculating the average grade\n",
    "average_grade=sum(grades) / len(grades)\n",
    "print(f\"Average Grade: {average_grade:.3f}\")\n",
    "\n",
    "## Highest and Lowest grades\n",
    "highest_grade=max(grades)\n",
    "lowest_grade=min(grades)\n",
    "print(\"Highest Grades\",highest_grade)\n",
    "print(\"Lowest Grades\",lowest_grade)\n",
    "\n",
    "\n",
    "\n"
   ]
  },
  {
   "cell_type": "code",
   "execution_count": null,
   "id": "a5050f1e",
   "metadata": {},
   "outputs": [],
   "source": []
  }
 ],
 "metadata": {
  "kernelspec": {
   "display_name": "Python 3",
   "language": "python",
   "name": "python3"
  },
  "language_info": {
   "codemirror_mode": {
    "name": "ipython",
    "version": 3
   },
   "file_extension": ".py",
   "mimetype": "text/x-python",
   "name": "python",
   "nbconvert_exporter": "python",
   "pygments_lexer": "ipython3",
   "version": "3.12.11"
  }
 },
 "nbformat": 4,
 "nbformat_minor": 5
}
