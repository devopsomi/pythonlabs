{
 "cells": [
  {
   "cell_type": "markdown",
   "id": "8852ce4e",
   "metadata": {},
   "source": [
    "File Operation - Read and Write Files"
   ]
  },
  {
   "cell_type": "code",
   "execution_count": 2,
   "id": "c4d38087",
   "metadata": {},
   "outputs": [
    {
     "name": "stdout",
     "output_type": "stream",
     "text": [
      "Hello!\n",
      "How are you?\n",
      "I am very well\n",
      "Welcome to Python Labs\n",
      "\n"
     ]
    }
   ],
   "source": [
    "## Read a whole file\n",
    "\n",
    "with open('example.txt','r') as file:\n",
    "    content=file.read()\n",
    "    print(content)\n"
   ]
  },
  {
   "cell_type": "code",
   "execution_count": 6,
   "id": "0efd6960",
   "metadata": {},
   "outputs": [
    {
     "name": "stdout",
     "output_type": "stream",
     "text": [
      "Hello!\n",
      "How are you?\n",
      "I am very well\n",
      "Welcome to Python Labs\n"
     ]
    }
   ],
   "source": [
    "## Read a file line by line\n",
    "with open('example.txt','r') as file:\n",
    "    for line in file:\n",
    "        ##print(line) ## Take a new line character by default\n",
    "        print(line.strip()) ## strip() removes the new line character"
   ]
  },
  {
   "cell_type": "code",
   "execution_count": null,
   "id": "c5b3581e",
   "metadata": {},
   "outputs": [],
   "source": [
    "## Writing a file(Overwriting)\n",
    "\n",
    "with open('example.txt','w') as file: ## 'w' will overwrite the file contents\n",
    "    file.write(\"Hello World!\\n\")\n",
    "    file.write(\"This is a new line.\")"
   ]
  },
  {
   "cell_type": "code",
   "execution_count": 9,
   "id": "f295938f",
   "metadata": {},
   "outputs": [],
   "source": [
    "## Writing a file(Without Overwriting)\n",
    "\n",
    "with open('example.txt','a') as file: ## 'w' will overwrite the file contents\n",
    "    file.write(\"\\nThis is an appended line\")"
   ]
  },
  {
   "cell_type": "code",
   "execution_count": null,
   "id": "552dccc3",
   "metadata": {},
   "outputs": [],
   "source": [
    "## Writing a list of lines to a file\n",
    "\n",
    "lines=['First Line\\n', 'Second Line\\n','Third Line\\n']\n",
    "\n",
    "with open('example.txt','a') as file: ## 'w' will overwrite the file contents\n",
    "    file.writelines(lines)  ## writelines to write lines from a list of lines\n",
    "    "
   ]
  },
  {
   "cell_type": "code",
   "execution_count": null,
   "id": "d1e0a09d",
   "metadata": {},
   "outputs": [],
   "source": [
    "## Binary Files\n",
    "\n",
    "data = b'\\x00\\x01\\x02\\x03\\x04'\n",
    "with open('example.bin','wb') as file: ## wb means write binary, rb to read the file\n",
    "    file.write(data)"
   ]
  },
  {
   "cell_type": "code",
   "execution_count": 16,
   "id": "6133c525",
   "metadata": {},
   "outputs": [],
   "source": [
    "## Read content from source file and write to destination text file\n",
    "\n",
    "with open('source.txt','r') as source_file: ## 'w' will overwrite the file contents\n",
    "    content = source_file.read()\n",
    "\n",
    "with open('destination.txt','w') as destination_file: ## 'w' will overwrite the file contents\n",
    "    destination_file.write(content)"
   ]
  },
  {
   "cell_type": "code",
   "execution_count": 24,
   "id": "324bf25d",
   "metadata": {},
   "outputs": [
    {
     "data": {
      "text/plain": [
       "(5, 21, 115)"
      ]
     },
     "execution_count": 24,
     "metadata": {},
     "output_type": "execute_result"
    }
   ],
   "source": [
    "## Read a text file and count the number of lines, words and characters\n",
    "\n",
    "filepath='example.txt'\n",
    "\n",
    "def get_counts(filepath):\n",
    "    with open(filepath,'r') as source_file:\n",
    "        lines=source_file.readlines()   ##readlines to read lines from a file\n",
    "        # return(lines)\n",
    "        line_count = len(lines)\n",
    "        word_count = sum(len(l.split()) for l in lines)\n",
    "        char_count = sum(len(l) for l in lines)\n",
    "        return line_count,word_count,char_count\n",
    "\n",
    "get_counts(filepath)\n",
    "\n",
    "\n"
   ]
  },
  {
   "cell_type": "markdown",
   "id": "4552efef",
   "metadata": {},
   "source": [
    "The w+ mode in python is used to open a file for both reading and writing. If the file does not exist it will be created.\n",
    "If the file exists, its content is truncated(i.e. the file is overwritten)"
   ]
  },
  {
   "cell_type": "code",
   "execution_count": 30,
   "id": "37662e90",
   "metadata": {},
   "outputs": [
    {
     "name": "stdout",
     "output_type": "stream",
     "text": [
      "\n"
     ]
    }
   ],
   "source": [
    "## Write and Read the file\n",
    "\n",
    "with open('example.txt','w+') as file:\n",
    "    file.write(\"Hello World\\n\")\n",
    "    file.write(\"This is a new line\\n\")\n",
    "\n",
    "    ## Move the cursor to the beginning\n",
    "    # file.seek(0) ## When this line is commented the content will not be displayed as the cursor will be at the end of the line\n",
    "    # When the above line is uncommented the cursor moves to the beginning of the file.\n",
    "    # When the file is being written and read multiple times, use seek()\n",
    "\n",
    "    ## Read the content of the file\n",
    "    content=file.read()\n",
    "    print(content)"
   ]
  },
  {
   "cell_type": "code",
   "execution_count": null,
   "id": "de0739dd",
   "metadata": {},
   "outputs": [],
   "source": []
  }
 ],
 "metadata": {
  "kernelspec": {
   "display_name": "Python 3",
   "language": "python",
   "name": "python3"
  },
  "language_info": {
   "codemirror_mode": {
    "name": "ipython",
    "version": 3
   },
   "file_extension": ".py",
   "mimetype": "text/x-python",
   "name": "python",
   "nbconvert_exporter": "python",
   "pygments_lexer": "ipython3",
   "version": "3.12.11"
  }
 },
 "nbformat": 4,
 "nbformat_minor": 5
}
