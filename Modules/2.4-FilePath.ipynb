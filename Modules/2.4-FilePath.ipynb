{
 "cells": [
  {
   "cell_type": "code",
   "execution_count": 2,
   "id": "fb95defa",
   "metadata": {},
   "outputs": [
    {
     "name": "stdout",
     "output_type": "stream",
     "text": [
      "/home/omkar/Documents/Assignments/pythonlabs/Modules\n"
     ]
    }
   ],
   "source": [
    "## Read current directory\n",
    "import os\n",
    "\n",
    "cwd=os.getcwd()\n",
    "print(cwd)"
   ]
  },
  {
   "cell_type": "code",
   "execution_count": 6,
   "id": "b115c570",
   "metadata": {},
   "outputs": [
    {
     "name": "stdout",
     "output_type": "stream",
     "text": [
      "Directory: 'package_test' created\n"
     ]
    }
   ],
   "source": [
    "## Create a new directory\n",
    "\n",
    "new_directory=\"package_test\"\n",
    "os.mkdir(new_directory)\n",
    "\n",
    "print(f\"Directory: '{new_directory}' created\")"
   ]
  },
  {
   "cell_type": "code",
   "execution_count": 7,
   "id": "9974aa1b",
   "metadata": {},
   "outputs": [
    {
     "name": "stdout",
     "output_type": "stream",
     "text": [
      "['package_test', '2.4-FilePath.ipynb', 'source.txt', '2.3-FileOperations.ipynb', 'example.txt', 'test_dir', 'package', 'destination.txt', 'example.bin', 'example.csv', '2.1-modules.ipynb', '2.2-standardlibs.ipynb']\n"
     ]
    }
   ],
   "source": [
    "## Listing files and directories\n",
    "\n",
    "items=os.listdir('.')\n",
    "print(items)"
   ]
  },
  {
   "cell_type": "code",
   "execution_count": 9,
   "id": "d2c517d9",
   "metadata": {},
   "outputs": [
    {
     "name": "stdout",
     "output_type": "stream",
     "text": [
      "folder/file.txt\n"
     ]
    }
   ],
   "source": [
    "## Joining paths\n",
    "\n",
    "dir_name='folder'\n",
    "file_name='file.txt'\n",
    "\n",
    "full_path=os.path.join(dir_name,file_name)\n",
    "print(full_path)"
   ]
  },
  {
   "cell_type": "code",
   "execution_count": 12,
   "id": "04ebcb61",
   "metadata": {},
   "outputs": [
    {
     "name": "stdout",
     "output_type": "stream",
     "text": [
      "/home/omkar/Documents/Assignments/pythonlabs/Modules/folder/file.txt\n"
     ]
    }
   ],
   "source": [
    "## Joining paths\n",
    "\n",
    "dir_name='folder'\n",
    "file_name='file.txt'\n",
    "\n",
    "full_path=os.path.join(os.getcwd(),dir_name,file_name)\n",
    "print(full_path)"
   ]
  },
  {
   "cell_type": "code",
   "execution_count": null,
   "id": "4755d582",
   "metadata": {},
   "outputs": [
    {
     "name": "stdout",
     "output_type": "stream",
     "text": [
      "The path example1.txt does not exists\n"
     ]
    }
   ],
   "source": [
    "## Check file exists or not\n",
    "\n",
    "path='example1.txt'\n",
    "\n",
    "if os.path.exists(path):\n",
    "    print(f\"The path {path} exists\")\n",
    "else:\n",
    "    print(f\"The path {path} does not exists\")\n",
    "    "
   ]
  },
  {
   "cell_type": "code",
   "execution_count": 13,
   "id": "57bda5ec",
   "metadata": {},
   "outputs": [
    {
     "name": "stdout",
     "output_type": "stream",
     "text": [
      "The path example1.txt is a directory\n"
     ]
    }
   ],
   "source": [
    "## Checking if the file is a path or dir\n",
    "\n",
    "import os\n",
    "\n",
    "path='example1.txt'\n",
    "\n",
    "if os.path.isfile(path):\n",
    "    print(f\"The path {path} is a file\")\n",
    "else:\n",
    "    print(f\"The path {path} is a directory\")"
   ]
  },
  {
   "cell_type": "code",
   "execution_count": 15,
   "id": "e5e1eede",
   "metadata": {},
   "outputs": [
    {
     "name": "stdout",
     "output_type": "stream",
     "text": [
      "/home/omkar/Documents/Assignments/pythonlabs/Modules/example.txt\n"
     ]
    }
   ],
   "source": [
    "## Getting the absolute path\n",
    "\n",
    "relative_path='example.txt'\n",
    "\n",
    "absolute_path=os.path.abspath(relative_path)\n",
    "print(absolute_path)"
   ]
  },
  {
   "cell_type": "code",
   "execution_count": null,
   "id": "0b35b7e1",
   "metadata": {},
   "outputs": [],
   "source": []
  }
 ],
 "metadata": {
  "kernelspec": {
   "display_name": "Python 3",
   "language": "python",
   "name": "python3"
  },
  "language_info": {
   "codemirror_mode": {
    "name": "ipython",
    "version": 3
   },
   "file_extension": ".py",
   "mimetype": "text/x-python",
   "name": "python",
   "nbconvert_exporter": "python",
   "pygments_lexer": "ipython3",
   "version": "3.12.11"
  }
 },
 "nbformat": 4,
 "nbformat_minor": 5
}
