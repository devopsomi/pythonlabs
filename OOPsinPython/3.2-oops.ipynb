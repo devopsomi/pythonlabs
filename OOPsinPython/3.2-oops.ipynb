{
 "cells": [
  {
   "cell_type": "markdown",
   "id": "928b995c",
   "metadata": {},
   "source": [
    "Classes and Objects \n",
    "\n",
    "Object Oriented Programmig(OOPs) is a programming paradigm that uses objects to design aplication and computer programs.\n"
   ]
  },
  {
   "cell_type": "code",
   "execution_count": 3,
   "id": "b8971a7e",
   "metadata": {},
   "outputs": [
    {
     "name": "stdout",
     "output_type": "stream",
     "text": [
      "<class '__main__.Car'>\n",
      "<class '__main__.Car'>\n"
     ]
    }
   ],
   "source": [
    "## Class is a blueprint for creating objects, attributes, methods\n",
    "\n",
    "class Car:\n",
    "    pass\n",
    "\n",
    "audi=Car() ## audi is an object\n",
    "\n",
    "bmw=Car()\n",
    "\n",
    "print(type(audi))\n",
    "print(type(bmw))"
   ]
  },
  {
   "cell_type": "code",
   "execution_count": 7,
   "id": "09a0ea18",
   "metadata": {},
   "outputs": [
    {
     "name": "stdout",
     "output_type": "stream",
     "text": [
      "<__main__.Car object at 0x70bdd01e8650>\n",
      "4\n"
     ]
    },
    {
     "data": {
      "text/plain": [
       "['__class__',\n",
       " '__delattr__',\n",
       " '__dict__',\n",
       " '__dir__',\n",
       " '__doc__',\n",
       " '__eq__',\n",
       " '__format__',\n",
       " '__ge__',\n",
       " '__getattribute__',\n",
       " '__getstate__',\n",
       " '__gt__',\n",
       " '__hash__',\n",
       " '__init__',\n",
       " '__init_subclass__',\n",
       " '__le__',\n",
       " '__lt__',\n",
       " '__module__',\n",
       " '__ne__',\n",
       " '__new__',\n",
       " '__reduce__',\n",
       " '__reduce_ex__',\n",
       " '__repr__',\n",
       " '__setattr__',\n",
       " '__sizeof__',\n",
       " '__str__',\n",
       " '__subclasshook__',\n",
       " '__weakref__',\n",
       " 'windows']"
      ]
     },
     "execution_count": 7,
     "metadata": {},
     "output_type": "execute_result"
    }
   ],
   "source": [
    "print(audi) ## Car Object named audi at specific memory location\n",
    "\n",
    "audi.windows=4 ## windows is an attribute. This is not a proper way to define attribute\n",
    "print(audi.windows)\n",
    "\n",
    "dir(audi) ## Will display methods and attributes of object"
   ]
  },
  {
   "cell_type": "code",
   "execution_count": null,
   "id": "2b9de028",
   "metadata": {},
   "outputs": [
    {
     "ename": "TypeError",
     "evalue": "Dog.__init__() missing 2 required positional arguments: 'name' and 'age'",
     "output_type": "error",
     "traceback": [
      "\u001b[31m---------------------------------------------------------------------------\u001b[39m",
      "\u001b[31mTypeError\u001b[39m                                 Traceback (most recent call last)",
      "\u001b[36mCell\u001b[39m\u001b[36m \u001b[39m\u001b[32mIn[8]\u001b[39m\u001b[32m, line 10\u001b[39m\n\u001b[32m      7\u001b[39m         \u001b[38;5;28mself\u001b[39m.age=age\n\u001b[32m      9\u001b[39m \u001b[38;5;66;03m## create objects\u001b[39;00m\n\u001b[32m---> \u001b[39m\u001b[32m10\u001b[39m dog1=\u001b[43mDog\u001b[49m\u001b[43m(\u001b[49m\u001b[43m)\u001b[49m\n",
      "\u001b[31mTypeError\u001b[39m: Dog.__init__() missing 2 required positional arguments: 'name' and 'age'"
     ]
    }
   ],
   "source": [
    "## Instance variable and methods\n",
    "\n",
    "class Dog:\n",
    "    ## Constructor - init is a method \n",
    "    def __init__(self,name,age):   ## self is a global keyword used in terms of good practice\n",
    "        self.name=name ## self.name is the instance variable name of the class dog and =name is the parameter\n",
    "        self.age=age\n",
    "\n",
    "## create objects\n",
    "dog1=Dog() ## By default the object calls the constructor which has 2 parameters due to which it will throw an error of no parametere passed\n",
    "\n",
    "        \n"
   ]
  },
  {
   "cell_type": "code",
   "execution_count": 9,
   "id": "83a13169",
   "metadata": {},
   "outputs": [
    {
     "name": "stdout",
     "output_type": "stream",
     "text": [
      "<__main__.Dog object at 0x70bdd00ea510>\n",
      "Buddy\n",
      "3\n"
     ]
    }
   ],
   "source": [
    "## Instance variable and methods\n",
    "\n",
    "class Dog:\n",
    "    ## Constructor - init is a method \n",
    "    def __init__(self,name,age):   ## self is a global keyword used in terms of good practice\n",
    "        self.name=name ## self.name is the instance variable name of the class dog and =name is the parameter\n",
    "        self.age=age\n",
    "\n",
    "## create objects\n",
    "dog1=Dog(\"Buddy\",3)\n",
    "print(dog1)\n",
    "print(dog1.name)\n",
    "print(dog1.age)\n",
    "        \n"
   ]
  },
  {
   "cell_type": "code",
   "execution_count": 11,
   "id": "98206bd8",
   "metadata": {},
   "outputs": [
    {
     "name": "stdout",
     "output_type": "stream",
     "text": [
      "<__main__.Dog object at 0x70bdd01ea510>\n",
      "Lucy\n",
      "4\n"
     ]
    }
   ],
   "source": [
    "dog2=Dog(\"Lucy\",4)\n",
    "\n",
    "print(dog2)\n",
    "print(dog2.name)\n",
    "print(dog2.age)\n"
   ]
  },
  {
   "cell_type": "code",
   "execution_count": 14,
   "id": "a6e7f77e",
   "metadata": {},
   "outputs": [
    {
     "name": "stdout",
     "output_type": "stream",
     "text": [
      "buddy says woof\n",
      "Lucy says woof\n"
     ]
    }
   ],
   "source": [
    "## Instance methods\n",
    "\n",
    "class Dog:\n",
    "    def __init__(self,name,age):\n",
    "        self.name=name\n",
    "        self.age=age\n",
    "\n",
    "    def bark(self):\n",
    "        print(f\"{self.name} says woof\")\n",
    "\n",
    "dog1=Dog(\"buddy\",3)\n",
    "dog1.bark()\n",
    "\n",
    "dog2=Dog(\"Lucy\",4)\n",
    "dog2.bark()"
   ]
  },
  {
   "cell_type": "code",
   "execution_count": null,
   "id": "df4c3bc1",
   "metadata": {},
   "outputs": [
    {
     "name": "stdout",
     "output_type": "stream",
     "text": [
      "10000\n"
     ]
    }
   ],
   "source": [
    "## Modeling a Bank Account\n",
    "\n",
    "## Define a class for bank account\n",
    "\n",
    "class BankAccount:\n",
    "    def __init__(self,owner,balance=0):\n",
    "        self.owner=owner\n",
    "        self.balance=balance\n",
    "\n",
    "    def deposit(self,amount):\n",
    "        self.balance+=amount\n",
    "        print(f\" {amount} is deposited. New Balance is {self.balance}\")\n",
    "    \n",
    "    def withdraw(self,amount):\n",
    "        if amount > self.balance:\n",
    "            print(\"Insufficent Funds\")\n",
    "        else:\n",
    "            self.balance-=amount\n",
    "            print(f\"{amount} is withdrwan. New Balance is {self.balance}\")\n",
    "        \n",
    "    def get_balance(self):\n",
    "        return self.balance\n",
    "balance\n",
    "\n",
    "## Create an account\n",
    "\n",
    "account=BankAccount(\"Omkar\",10000)\n",
    "\n",
    "print(account.balance)\n",
    "\n",
    "\n"
   ]
  },
  {
   "cell_type": "code",
   "execution_count": 26,
   "id": "f5894917",
   "metadata": {},
   "outputs": [
    {
     "name": "stdout",
     "output_type": "stream",
     "text": [
      " 1001 is deposited. New Balance is 11001\n"
     ]
    }
   ],
   "source": [
    "## Call Instance Methods\n",
    "account.deposit(1001)"
   ]
  },
  {
   "cell_type": "code",
   "execution_count": 28,
   "id": "a3806755",
   "metadata": {},
   "outputs": [
    {
     "name": "stdout",
     "output_type": "stream",
     "text": [
      "11001\n"
     ]
    }
   ],
   "source": [
    "print(account.get_balance())"
   ]
  },
  {
   "cell_type": "code",
   "execution_count": 29,
   "id": "c7fd0e87",
   "metadata": {},
   "outputs": [
    {
     "name": "stdout",
     "output_type": "stream",
     "text": [
      "1001 is withdrwan. New Balance is 10000\n"
     ]
    }
   ],
   "source": [
    "account.withdraw(1001)"
   ]
  },
  {
   "cell_type": "code",
   "execution_count": 30,
   "id": "87c6e6b6",
   "metadata": {},
   "outputs": [
    {
     "name": "stdout",
     "output_type": "stream",
     "text": [
      "10000\n"
     ]
    }
   ],
   "source": [
    "print(account.get_balance())"
   ]
  },
  {
   "cell_type": "code",
   "execution_count": null,
   "id": "25abe14b",
   "metadata": {},
   "outputs": [],
   "source": []
  }
 ],
 "metadata": {
  "kernelspec": {
   "display_name": "Python 3",
   "language": "python",
   "name": "python3"
  },
  "language_info": {
   "codemirror_mode": {
    "name": "ipython",
    "version": 3
   },
   "file_extension": ".py",
   "mimetype": "text/x-python",
   "name": "python",
   "nbconvert_exporter": "python",
   "pygments_lexer": "ipython3",
   "version": "3.12.11"
  }
 },
 "nbformat": 4,
 "nbformat_minor": 5
}
