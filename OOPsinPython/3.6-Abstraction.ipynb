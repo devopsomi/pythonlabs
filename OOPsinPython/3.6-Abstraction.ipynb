{
 "cells": [
  {
   "cell_type": "markdown",
   "id": "3e0b0763",
   "metadata": {},
   "source": [
    "Abstraction\n",
    "- Concept of hiding the complex implementation details and showing only the necessary features of an object\n",
    "- Helps reducing programming complexity and effort"
   ]
  },
  {
   "cell_type": "code",
   "execution_count": 5,
   "id": "184a04d7",
   "metadata": {},
   "outputs": [
    {
     "name": "stdout",
     "output_type": "stream",
     "text": [
      "Car engine started\n",
      "The vehicle is used for driving\n"
     ]
    }
   ],
   "source": [
    "from abc import ABC,abstractmethod  ## For abstract class we use\n",
    "\n",
    "##Abstract Class\n",
    "class Vehicle(ABC): ## Inheriting ABC - Abstract Base Class\n",
    "    def drive(self):\n",
    "        print(\"The vehicle is used for driving\")\n",
    "\n",
    "    @abstractmethod ## And empty method, Just like giving necessary feature you can use hiding the drive method functionality\n",
    "    def start_engine(self):\n",
    "        pass\n",
    "\n",
    "class Car(Vehicle): ## To use abstract method start_engine, derived class needs to define the abstract method\n",
    "    def start_engine(self):\n",
    "        print(\"Car engine started\")\n",
    "\n",
    "\n",
    "def operate_vehicle(vehicle):  \n",
    "    vehicle.start_engine()  ## Dervived class using abstract method defined in derived class\n",
    "    vehicle.drive()  ## Derived class can also use the method of base class\n",
    "\n",
    "car=Car()\n",
    "operate_vehicle(car)"
   ]
  },
  {
   "cell_type": "code",
   "execution_count": null,
   "id": "903f5f06",
   "metadata": {},
   "outputs": [],
   "source": []
  }
 ],
 "metadata": {
  "kernelspec": {
   "display_name": "Python 3",
   "language": "python",
   "name": "python3"
  },
  "language_info": {
   "codemirror_mode": {
    "name": "ipython",
    "version": 3
   },
   "file_extension": ".py",
   "mimetype": "text/x-python",
   "name": "python",
   "nbconvert_exporter": "python",
   "pygments_lexer": "ipython3",
   "version": "3.12.11"
  }
 },
 "nbformat": 4,
 "nbformat_minor": 5
}
