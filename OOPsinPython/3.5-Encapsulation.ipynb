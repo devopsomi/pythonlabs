{
 "cells": [
  {
   "cell_type": "markdown",
   "id": "38a52025",
   "metadata": {},
   "source": [
    "Encapsulation and Abstraction\n",
    "- Two fundamental principles of OOPs that help in designing robust, maintainable and reusable code.\n",
    "- Encapsulation involves bundling data and methods that operate on the data within a single unit\n",
    "- Abstraction involves hiding complex implementation details and exposing only the necessary functions\n",
    "\n",
    "\n",
    "Encapsulation: \n",
    "- Concept of wrapping data(variables) and methods(functions) together as a single unit.\n",
    "- Restricts direct access to some of the objects components, which means of preventing accidental interference and misuse of data.\n"
   ]
  },
  {
   "cell_type": "code",
   "execution_count": 3,
   "id": "b5182f23",
   "metadata": {},
   "outputs": [
    {
     "name": "stdout",
     "output_type": "stream",
     "text": [
      "omkar\n"
     ]
    }
   ],
   "source": [
    "## Encapsulation with Getter and Setter Methods\n",
    "## Public, protected and private variables or access modifiers\n",
    "\n",
    "class Person:\n",
    "    def __init__(self,name,age):\n",
    "        self.name=name   ## Public variables\n",
    "        self.age=age\n",
    "\n",
    "person=Person(\"omkar\",33)\n",
    "print(person.name)"
   ]
  },
  {
   "cell_type": "code",
   "execution_count": 4,
   "id": "fd2210a0",
   "metadata": {},
   "outputs": [
    {
     "data": {
      "text/plain": [
       "['__class__',\n",
       " '__delattr__',\n",
       " '__dict__',\n",
       " '__dir__',\n",
       " '__doc__',\n",
       " '__eq__',\n",
       " '__format__',\n",
       " '__ge__',\n",
       " '__getattribute__',\n",
       " '__getstate__',\n",
       " '__gt__',\n",
       " '__hash__',\n",
       " '__init__',\n",
       " '__init_subclass__',\n",
       " '__le__',\n",
       " '__lt__',\n",
       " '__module__',\n",
       " '__ne__',\n",
       " '__new__',\n",
       " '__reduce__',\n",
       " '__reduce_ex__',\n",
       " '__repr__',\n",
       " '__setattr__',\n",
       " '__sizeof__',\n",
       " '__str__',\n",
       " '__subclasshook__',\n",
       " '__weakref__',\n",
       " 'age',\n",
       " 'name']"
      ]
     },
     "execution_count": 4,
     "metadata": {},
     "output_type": "execute_result"
    }
   ],
   "source": [
    "dir(person) ##Prints attributes methods and variables available "
   ]
  },
  {
   "cell_type": "code",
   "execution_count": null,
   "id": "c76813bd",
   "metadata": {},
   "outputs": [
    {
     "data": {
      "text/plain": [
       "['_Person__age',\n",
       " '_Person__name',\n",
       " '__class__',\n",
       " '__delattr__',\n",
       " '__dict__',\n",
       " '__dir__',\n",
       " '__doc__',\n",
       " '__eq__',\n",
       " '__format__',\n",
       " '__ge__',\n",
       " '__getattribute__',\n",
       " '__getstate__',\n",
       " '__gt__',\n",
       " '__hash__',\n",
       " '__init__',\n",
       " '__init_subclass__',\n",
       " '__le__',\n",
       " '__lt__',\n",
       " '__module__',\n",
       " '__ne__',\n",
       " '__new__',\n",
       " '__reduce__',\n",
       " '__reduce_ex__',\n",
       " '__repr__',\n",
       " '__setattr__',\n",
       " '__sizeof__',\n",
       " '__str__',\n",
       " '__subclasshook__',\n",
       " '__weakref__']"
      ]
     },
     "execution_count": 7,
     "metadata": {},
     "output_type": "execute_result"
    }
   ],
   "source": [
    "## There could be scenarios where we do not want variables to be access outside the class\n",
    "## Encapsulation with Getter and Setter Methods\n",
    "## Public, protected and private variables or access modifiers\n",
    "\n",
    "class Person:\n",
    "    def __init__(self,name,age):\n",
    "        self.__name=name   ## Private variables\n",
    "        self.__age=age     ## Private variables\n",
    "\n",
    "person=Person(\"omkar\",33)\n",
    "dir(person) ## private variables will not be listed. Gets listed as _Person_name and not _name\n"
   ]
  },
  {
   "cell_type": "code",
   "execution_count": null,
   "id": "4a679b7f",
   "metadata": {},
   "outputs": [
    {
     "ename": "AttributeError",
     "evalue": "'Person' object has no attribute '__name'",
     "output_type": "error",
     "traceback": [
      "\u001b[31m---------------------------------------------------------------------------\u001b[39m",
      "\u001b[31mAttributeError\u001b[39m                            Traceback (most recent call last)",
      "\u001b[36mCell\u001b[39m\u001b[36m \u001b[39m\u001b[32mIn[10]\u001b[39m\u001b[32m, line 11\u001b[39m\n\u001b[32m      8\u001b[39m         \u001b[38;5;28mself\u001b[39m.__age=age     \u001b[38;5;66;03m## Private variables\u001b[39;00m\n\u001b[32m     10\u001b[39m person=Person(\u001b[33m\"\u001b[39m\u001b[33momkar\u001b[39m\u001b[33m\"\u001b[39m,\u001b[32m33\u001b[39m)\n\u001b[32m---> \u001b[39m\u001b[32m11\u001b[39m \u001b[38;5;28mprint\u001b[39m(\u001b[43mperson\u001b[49m\u001b[43m.\u001b[49m\u001b[43m__name\u001b[49m)  \u001b[38;5;66;03m## Private variable will not be allowed. Restricting variables.\u001b[39;00m\n",
      "\u001b[31mAttributeError\u001b[39m: 'Person' object has no attribute '__name'"
     ]
    }
   ],
   "source": [
    "## There could be scenarios where we do not want variables to be access outside the class\n",
    "## Encapsulation with Getter and Setter Methods\n",
    "## Public, protected and private variables or access modifiers\n",
    "\n",
    "class Person:\n",
    "    def __init__(self,name,age):\n",
    "        self.__name=name   ## Private variables\n",
    "        self.__age=age     ## Private variables\n",
    "\n",
    "person=Person(\"omkar\",33)\n",
    "print(person.__name)  ## Private variable cannot be accessed outside the class. Restricting variables."
   ]
  },
  {
   "cell_type": "code",
   "execution_count": 22,
   "id": "f64063a2",
   "metadata": {},
   "outputs": [
    {
     "name": "stdout",
     "output_type": "stream",
     "text": [
      "Avyu\n"
     ]
    }
   ],
   "source": [
    "## Protected Variable - Cannot be accessed outside the class, \n",
    "## but can be accessed from the derived class\n",
    "## Single Underscore _\n",
    "\n",
    "class Person:\n",
    "    def __init__(self,name,age):\n",
    "        self._name=name   ## Protected variables\n",
    "        self._age=age     ## Protected variables\n",
    "\n",
    "person=Person(\"omkar\",33)\n",
    "# print(person.name)  \n",
    "\n",
    "class Employee(Person):\n",
    "    def __init__(self,name,age):\n",
    "        super().__init__(name,age)\n",
    "\n",
    "employee=Employee(\"Avyu\",1)\n",
    "print(employee._name)\n",
    "\n"
   ]
  },
  {
   "cell_type": "code",
   "execution_count": 25,
   "id": "01fe9a66",
   "metadata": {},
   "outputs": [
    {
     "name": "stdout",
     "output_type": "stream",
     "text": [
      "Omkar\n",
      "33\n",
      "None\n",
      "None\n",
      "Avyu\n",
      "1\n"
     ]
    }
   ],
   "source": [
    "## Encapsulation with Getter and Setter method/\n",
    "\n",
    "class Person:\n",
    "    def __init__(self,name,age):\n",
    "        self.__name=name ## Private access modifier or variable\n",
    "        self.__age=age ## Private variable\n",
    "\n",
    "    ## Getter method for name\n",
    "    def get_name(self):\n",
    "        return self.__name\n",
    "\n",
    "    ## setter method for name\n",
    "    def set_name(self,name):\n",
    "        self.__name=name\n",
    "    \n",
    "    ## Getter method for age\n",
    "    def get_age(self):\n",
    "        return self.__age\n",
    "\n",
    "    ## setter method for age\n",
    "    def set_age(self,age):\n",
    "        if age > 0:\n",
    "            self.__age = age\n",
    "        else:\n",
    "            print(\"Age cannot be negative\")\n",
    "\n",
    "person=Person(\"Omkar\",33)\n",
    "\n",
    "## Access and modify private variables using getter and setter\n",
    "print(person.get_name())\n",
    "print(person.get_age())\n",
    "print(person.set_name(\"Avyu\"))\n",
    "print(person.set_age(1))\n",
    "print(person.get_name())\n",
    "print(person.get_age())\n"
   ]
  },
  {
   "cell_type": "code",
   "execution_count": null,
   "id": "44989285",
   "metadata": {},
   "outputs": [],
   "source": []
  }
 ],
 "metadata": {
  "kernelspec": {
   "display_name": "Python 3",
   "language": "python",
   "name": "python3"
  },
  "language_info": {
   "codemirror_mode": {
    "name": "ipython",
    "version": 3
   },
   "file_extension": ".py",
   "mimetype": "text/x-python",
   "name": "python",
   "nbconvert_exporter": "python",
   "pygments_lexer": "ipython3",
   "version": "3.12.11"
  }
 },
 "nbformat": 4,
 "nbformat_minor": 5
}
